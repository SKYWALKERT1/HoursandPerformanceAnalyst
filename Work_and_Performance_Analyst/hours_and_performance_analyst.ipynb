{
 "cells": [
  {
   "cell_type": "code",
   "execution_count": 103,
   "metadata": {},
   "outputs": [],
   "source": [
    "import pandas as pd \n",
    "import numpy as np\n",
    "import matplotlib.pyplot as plt\n",
    "from sklearn.linear_model import LinearRegression\n",
    "from sklearn.model_selection import train_test_split\n",
    "from sklearn.metrics import mean_squared_error\n",
    "import seaborn as sns"
   ]
  },
  {
   "cell_type": "code",
   "execution_count": 104,
   "metadata": {},
   "outputs": [],
   "source": [
    "df = pd.read_csv('linear_regression_dataset.csv')"
   ]
  },
  {
   "cell_type": "code",
   "execution_count": 105,
   "metadata": {},
   "outputs": [
    {
     "data": {
      "text/html": [
       "<div>\n",
       "<style scoped>\n",
       "    .dataframe tbody tr th:only-of-type {\n",
       "        vertical-align: middle;\n",
       "    }\n",
       "\n",
       "    .dataframe tbody tr th {\n",
       "        vertical-align: top;\n",
       "    }\n",
       "\n",
       "    .dataframe thead th {\n",
       "        text-align: right;\n",
       "    }\n",
       "</style>\n",
       "<table border=\"1\" class=\"dataframe\">\n",
       "  <thead>\n",
       "    <tr style=\"text-align: right;\">\n",
       "      <th></th>\n",
       "      <th>Hours</th>\n",
       "      <th>Performance</th>\n",
       "    </tr>\n",
       "  </thead>\n",
       "  <tbody>\n",
       "    <tr>\n",
       "      <th>0</th>\n",
       "      <td>4.370861</td>\n",
       "      <td>36.316001</td>\n",
       "    </tr>\n",
       "    <tr>\n",
       "      <th>1</th>\n",
       "      <td>9.556429</td>\n",
       "      <td>91.965067</td>\n",
       "    </tr>\n",
       "    <tr>\n",
       "      <th>2</th>\n",
       "      <td>7.587945</td>\n",
       "      <td>73.576261</td>\n",
       "    </tr>\n",
       "    <tr>\n",
       "      <th>3</th>\n",
       "      <td>6.387926</td>\n",
       "      <td>69.164875</td>\n",
       "    </tr>\n",
       "    <tr>\n",
       "      <th>4</th>\n",
       "      <td>2.404168</td>\n",
       "      <td>25.759769</td>\n",
       "    </tr>\n",
       "    <tr>\n",
       "      <th>5</th>\n",
       "      <td>2.403951</td>\n",
       "      <td>15.224306</td>\n",
       "    </tr>\n",
       "    <tr>\n",
       "      <th>6</th>\n",
       "      <td>1.522753</td>\n",
       "      <td>16.847945</td>\n",
       "    </tr>\n",
       "    <tr>\n",
       "      <th>7</th>\n",
       "      <td>8.795585</td>\n",
       "      <td>86.030442</td>\n",
       "    </tr>\n",
       "    <tr>\n",
       "      <th>8</th>\n",
       "      <td>6.410035</td>\n",
       "      <td>60.715741</td>\n",
       "    </tr>\n",
       "    <tr>\n",
       "      <th>9</th>\n",
       "      <td>7.372653</td>\n",
       "      <td>76.784913</td>\n",
       "    </tr>\n",
       "  </tbody>\n",
       "</table>\n",
       "</div>"
      ],
      "text/plain": [
       "      Hours  Performance\n",
       "0  4.370861    36.316001\n",
       "1  9.556429    91.965067\n",
       "2  7.587945    73.576261\n",
       "3  6.387926    69.164875\n",
       "4  2.404168    25.759769\n",
       "5  2.403951    15.224306\n",
       "6  1.522753    16.847945\n",
       "7  8.795585    86.030442\n",
       "8  6.410035    60.715741\n",
       "9  7.372653    76.784913"
      ]
     },
     "execution_count": 105,
     "metadata": {},
     "output_type": "execute_result"
    }
   ],
   "source": [
    "df.head(10)"
   ]
  },
  {
   "cell_type": "code",
   "execution_count": 106,
   "metadata": {},
   "outputs": [
    {
     "data": {
      "text/html": [
       "<div>\n",
       "<style scoped>\n",
       "    .dataframe tbody tr th:only-of-type {\n",
       "        vertical-align: middle;\n",
       "    }\n",
       "\n",
       "    .dataframe tbody tr th {\n",
       "        vertical-align: top;\n",
       "    }\n",
       "\n",
       "    .dataframe thead th {\n",
       "        text-align: right;\n",
       "    }\n",
       "</style>\n",
       "<table border=\"1\" class=\"dataframe\">\n",
       "  <thead>\n",
       "    <tr style=\"text-align: right;\">\n",
       "      <th></th>\n",
       "      <th>Hours</th>\n",
       "      <th>Performance</th>\n",
       "    </tr>\n",
       "  </thead>\n",
       "  <tbody>\n",
       "    <tr>\n",
       "      <th>50</th>\n",
       "      <td>9.726262</td>\n",
       "      <td>95.302076</td>\n",
       "    </tr>\n",
       "    <tr>\n",
       "      <th>51</th>\n",
       "      <td>7.976195</td>\n",
       "      <td>72.444379</td>\n",
       "    </tr>\n",
       "    <tr>\n",
       "      <th>52</th>\n",
       "      <td>9.455490</td>\n",
       "      <td>96.035506</td>\n",
       "    </tr>\n",
       "    <tr>\n",
       "      <th>53</th>\n",
       "      <td>9.053446</td>\n",
       "      <td>91.839738</td>\n",
       "    </tr>\n",
       "    <tr>\n",
       "      <th>54</th>\n",
       "      <td>6.381100</td>\n",
       "      <td>63.836565</td>\n",
       "    </tr>\n",
       "    <tr>\n",
       "      <th>55</th>\n",
       "      <td>9.296868</td>\n",
       "      <td>91.795745</td>\n",
       "    </tr>\n",
       "    <tr>\n",
       "      <th>56</th>\n",
       "      <td>1.796433</td>\n",
       "      <td>10.887471</td>\n",
       "    </tr>\n",
       "    <tr>\n",
       "      <th>57</th>\n",
       "      <td>2.763846</td>\n",
       "      <td>25.535231</td>\n",
       "    </tr>\n",
       "    <tr>\n",
       "      <th>58</th>\n",
       "      <td>1.407046</td>\n",
       "      <td>12.356883</td>\n",
       "    </tr>\n",
       "    <tr>\n",
       "      <th>59</th>\n",
       "      <td>3.927973</td>\n",
       "      <td>35.268343</td>\n",
       "    </tr>\n",
       "  </tbody>\n",
       "</table>\n",
       "</div>"
      ],
      "text/plain": [
       "       Hours  Performance\n",
       "50  9.726262    95.302076\n",
       "51  7.976195    72.444379\n",
       "52  9.455490    96.035506\n",
       "53  9.053446    91.839738\n",
       "54  6.381100    63.836565\n",
       "55  9.296868    91.795745\n",
       "56  1.796433    10.887471\n",
       "57  2.763846    25.535231\n",
       "58  1.407046    12.356883\n",
       "59  3.927973    35.268343"
      ]
     },
     "execution_count": 106,
     "metadata": {},
     "output_type": "execute_result"
    }
   ],
   "source": [
    "df.tail(10)"
   ]
  },
  {
   "cell_type": "code",
   "execution_count": 107,
   "metadata": {},
   "outputs": [
    {
     "data": {
      "text/plain": [
       "<bound method NDFrame.describe of        Hours  Performance\n",
       "0   4.370861    36.316001\n",
       "1   9.556429    91.965067\n",
       "2   7.587945    73.576261\n",
       "3   6.387926    69.164875\n",
       "4   2.404168    25.759769\n",
       "5   2.403951    15.224306\n",
       "6   1.522753    16.847945\n",
       "7   8.795585    86.030442\n",
       "8   6.410035    60.715741\n",
       "9   7.372653    76.784913\n",
       "10  1.185260    17.007602\n",
       "11  9.729189   101.948287\n",
       "12  8.491984    80.723750\n",
       "13  2.911052    27.564458\n",
       "14  2.636425    28.020564\n",
       "15  2.650641    31.384132\n",
       "16  3.738180    34.985931\n",
       "17  5.722808    56.299784\n",
       "18  4.887505    43.343377\n",
       "19  3.621062    30.229589\n",
       "20  6.506676    69.129390\n",
       "21  2.255445    29.335648\n",
       "22  3.629302    35.932968\n",
       "23  4.297257    47.990230\n",
       "24  5.104630    52.854479\n",
       "25  8.066584    77.440238\n",
       "26  2.797064    29.777618\n",
       "27  5.628110    63.971282\n",
       "28  6.331731    63.138181\n",
       "29  1.418054    22.003755\n",
       "30  6.467904    51.580311\n",
       "31  2.534717    29.456684\n",
       "32  1.585464    16.289879\n",
       "33  9.539970    93.904662\n",
       "34  9.690688    97.365687\n",
       "35  8.275576    72.817917\n",
       "36  3.741524    36.316880\n",
       "37  1.879049    20.576053\n",
       "38  7.158097    78.970443\n",
       "39  4.961372    47.022373\n",
       "40  2.098344    16.940973\n",
       "41  5.456592    52.057137\n",
       "42  1.309497    17.671977\n",
       "43  9.183884    93.482592\n",
       "44  3.329020    30.641397\n",
       "45  6.962701    72.193343\n",
       "46  3.805400    38.539385\n",
       "47  5.680612    61.649347\n",
       "48  5.920393    55.693660\n",
       "49  2.663690    24.998590\n",
       "50  9.726262    95.302076\n",
       "51  7.976195    72.444379\n",
       "52  9.455490    96.035506\n",
       "53  9.053446    91.839738\n",
       "54  6.381100    63.836565\n",
       "55  9.296868    91.795745\n",
       "56  1.796433    10.887471\n",
       "57  2.763846    25.535231\n",
       "58  1.407046    12.356883\n",
       "59  3.927973    35.268343>"
      ]
     },
     "execution_count": 107,
     "metadata": {},
     "output_type": "execute_result"
    }
   ],
   "source": [
    "df.describe"
   ]
  },
  {
   "cell_type": "code",
   "execution_count": 108,
   "metadata": {},
   "outputs": [
    {
     "data": {
      "text/plain": [
       "(60, 2)"
      ]
     },
     "execution_count": 108,
     "metadata": {},
     "output_type": "execute_result"
    }
   ],
   "source": [
    "df.shape"
   ]
  },
  {
   "cell_type": "markdown",
   "metadata": {},
   "source": [
    "## <font color='red'><b>Linear Regression</b></font>\n",
    "#### *Using the 'Linear Regression' from the sklearn library, we examined the linear regression relationship between performance and hours through the matplotlib graph.*"
   ]
  },
  {
   "cell_type": "code",
   "execution_count": 136,
   "metadata": {},
   "outputs": [
    {
     "data": {
      "image/png": "[encoded data removed]",
      "text/plain": [
       "<Figure size 640x480 with 1 Axes>"
      ]
     },
     "metadata": {},
     "output_type": "display_data"
    }
   ],
   "source": [
    "df = pd.read_csv('linear_regression_dataset.csv')\n",
    "\n",
    "\n",
    "plt.scatter(df['Hours'], df['Performance'], color='blue', label='Real Values')\n",
    "\n",
    "\n",
    "model = LinearRegression()\n",
    "model.fit(df['Hours'].values.reshape(-1, 1), df['Performance'])\n",
    "\n",
    "\n",
    "prediction_space = np.linspace(min(df['Hours']), max(df['Hours'])).reshape(-1, 1)\n",
    "plt.plot(prediction_space, model.predict(prediction_space), color='red', linewidth=3, label='Linear Regression Draw')\n",
    "\n",
    "\n",
    "plt.xlabel('Hours')\n",
    "plt.ylabel('Performance')\n",
    "plt.legend()\n",
    "plt.title('Hours vs Performance with Linear Regression Line')\n",
    "plt.show()\n"
   ]
  },
  {
   "cell_type": "markdown",
   "metadata": {},
   "source": [
    "## <font color='blue'><b>Mean Squared Error</b></font> \n",
    "#### *We examined the mean squared error value while using the 'Linear Regression' from the sklearn library to analyze the relationship between performance and hours through the matplotlib graph.*\n"
   ]
  },
  {
   "cell_type": "code",
   "execution_count": 110,
   "metadata": {},
   "outputs": [
    {
     "name": "stdout",
     "output_type": "stream",
     "text": [
      "Ortalama Kare Hata: 19.36586644568902\n"
     ]
    }
   ],
   "source": [
    "y_true = df['Performance']\n",
    "\n",
    "# Modelin tahminleri\n",
    "y_pred = model.predict(df['Hours'].values.reshape(-1, 1))\n",
    "\n",
    "# Ortalama Kare Hatası hesapla\n",
    "mse = mean_squared_error(y_true, y_pred)\n",
    "\n",
    "print(\"Ortalama Kare Hata:\", mse)"
   ]
  },
  {
   "cell_type": "markdown",
   "metadata": {},
   "source": [
    "## <font color='black'><b>Linear Regression Seaborn</b></font>\n",
    "#### *Using the 'Linear Regression' from the sklearn library, we examined the linear regression relationship between performance and hours through the seaborn graph.*"
   ]
  },
  {
   "cell_type": "code",
   "execution_count": 111,
   "metadata": {},
   "outputs": [
    {
     "data": {
      "image/png": "[encoded data removed]",
      "text/plain": [
       "<Figure size 640x480 with 1 Axes>"
      ]
     },
     "metadata": {},
     "output_type": "display_data"
    }
   ],
   "source": [
    "sns.regplot(x='Hours', y='Performance', color='black', data=df, scatter_kws={'color': 'blue'})\n",
    "\n",
    "plt.title('Hours vs Performance with Linear Regression Line')\n",
    "\n",
    "plt.show()"
   ]
  },
  {
   "cell_type": "markdown",
   "metadata": {},
   "source": [
    "## <font color='green'><b>Linear and Bar Regression Seaborn</b></font>\n",
    "#### *While examining the linear regression relationship between performance and hours using the 'Linear Regression' from the sklearn library, we observed the jointplot graph, where the bar structure aided our analysis.*\n"
   ]
  },
  {
   "cell_type": "code",
   "execution_count": 112,
   "metadata": {},
   "outputs": [
    {
     "data": {
      "image/png": "[encoded data removed]",
      "text/plain": [
       "<Figure size 600x600 with 3 Axes>"
      ]
     },
     "metadata": {},
     "output_type": "display_data"
    }
   ],
   "source": [
    "joint = sns.jointplot(x='Hours', y='Performance', color='black', data=df)\n",
    "\n",
    "joint.fig.suptitle('Hours vs Performance with Linear Regression Line')\n",
    "\n",
    "plt.subplots_adjust(top=0.9)\n",
    "\n",
    "plt.show()"
   ]
  },
  {
   "cell_type": "code",
   "execution_count": 113,
   "metadata": {},
   "outputs": [],
   "source": [
    "X =df['Hours']\n",
    "y =df['Performance']"
   ]
  },
  {
   "cell_type": "markdown",
   "metadata": {},
   "source": [
    "## <font color='yellow'><b>Train Test Split</b></font>\n",
    "#### *We have divided our dataset into training and test sets. The reason for this separation is to obtain a model that is closer to linear regression for better performance.*\n"
   ]
  },
  {
   "cell_type": "code",
   "execution_count": 114,
   "metadata": {},
   "outputs": [],
   "source": [
    "X_train, X_test, y_train, y_test = train_test_split(X, y, test_size=0.2, random_state=42)\n",
    "\n"
   ]
  },
  {
   "cell_type": "code",
   "execution_count": 115,
   "metadata": {},
   "outputs": [
    {
     "data": {
      "text/plain": [
       "(48,)"
      ]
     },
     "execution_count": 115,
     "metadata": {},
     "output_type": "execute_result"
    }
   ],
   "source": [
    "X_train.shape"
   ]
  },
  {
   "cell_type": "code",
   "execution_count": 116,
   "metadata": {},
   "outputs": [
    {
     "data": {
      "text/plain": [
       "(48,)"
      ]
     },
     "execution_count": 116,
     "metadata": {},
     "output_type": "execute_result"
    }
   ],
   "source": [
    "y_train.shape"
   ]
  },
  {
   "cell_type": "code",
   "execution_count": 117,
   "metadata": {},
   "outputs": [
    {
     "data": {
      "text/plain": [
       "(12,)"
      ]
     },
     "execution_count": 117,
     "metadata": {},
     "output_type": "execute_result"
    }
   ],
   "source": [
    "X_test.shape"
   ]
  },
  {
   "cell_type": "code",
   "execution_count": 118,
   "metadata": {},
   "outputs": [
    {
     "data": {
      "text/plain": [
       "(12,)"
      ]
     },
     "execution_count": 118,
     "metadata": {},
     "output_type": "execute_result"
    }
   ],
   "source": [
    "y_test.shape"
   ]
  },
  {
   "cell_type": "code",
   "execution_count": 119,
   "metadata": {},
   "outputs": [
    {
     "data": {
      "text/plain": [
       "array([[2.53471711],\n",
       "       [6.38792636],\n",
       "       [9.45549047],\n",
       "       [5.72280788],\n",
       "       [6.41003511],\n",
       "       [1.52275251],\n",
       "       [2.09834411],\n",
       "       [2.40416776],\n",
       "       [9.18388362],\n",
       "       [3.62106226],\n",
       "       [9.6906883 ],\n",
       "       [1.4070456 ],\n",
       "       [8.06658365],\n",
       "       [1.79643252],\n",
       "       [2.65064059],\n",
       "       [5.62810995],\n",
       "       [7.3726532 ],\n",
       "       [6.46790367],\n",
       "       [2.79706404],\n",
       "       [3.73818019],\n",
       "       [5.10462986],\n",
       "       [9.29686812],\n",
       "       [9.72918867],\n",
       "       [1.58546434],\n",
       "       [9.05344615],\n",
       "       [5.45659219],\n",
       "       [1.87904903],\n",
       "       [1.41805371],\n",
       "       [3.32901983],\n",
       "       [9.55642876],\n",
       "       [2.25544475],\n",
       "       [7.58794548],\n",
       "       [5.68061219],\n",
       "       [4.96137244],\n",
       "       [8.27557613],\n",
       "       [4.29725659],\n",
       "       [2.6636901 ],\n",
       "       [1.18526045],\n",
       "       [3.62930184],\n",
       "       [4.88750517],\n",
       "       [3.92797298],\n",
       "       [6.50667605],\n",
       "       [8.79558531],\n",
       "       [1.30949669],\n",
       "       [2.6364247 ],\n",
       "       [6.33173112],\n",
       "       [7.97619541],\n",
       "       [7.15809724]])"
      ]
     },
     "execution_count": 119,
     "metadata": {},
     "output_type": "execute_result"
    }
   ],
   "source": [
    "\n",
    "X_train = np.array(X_train).reshape(-1,1)\n",
    "X_train"
   ]
  },
  {
   "cell_type": "code",
   "execution_count": 120,
   "metadata": {},
   "outputs": [
    {
     "data": {
      "text/plain": [
       "array([[ 29.45668365],\n",
       "       [ 69.16487471],\n",
       "       [ 96.03550613],\n",
       "       [ 56.29978396],\n",
       "       [ 60.71574106],\n",
       "       [ 16.84794494],\n",
       "       [ 16.94097312],\n",
       "       [ 25.75976909],\n",
       "       [ 93.48259174],\n",
       "       [ 30.2295895 ],\n",
       "       [ 97.36568686],\n",
       "       [ 12.35688342],\n",
       "       [ 77.44023775],\n",
       "       [ 10.88747147],\n",
       "       [ 31.38413152],\n",
       "       [ 63.97128229],\n",
       "       [ 76.78491345],\n",
       "       [ 51.58031115],\n",
       "       [ 29.77761842],\n",
       "       [ 34.98593068],\n",
       "       [ 52.8544787 ],\n",
       "       [ 91.79574549],\n",
       "       [101.94828729],\n",
       "       [ 16.28987871],\n",
       "       [ 91.8397379 ],\n",
       "       [ 52.05713669],\n",
       "       [ 20.57605312],\n",
       "       [ 22.00375542],\n",
       "       [ 30.64139733],\n",
       "       [ 91.96506653],\n",
       "       [ 29.3356476 ],\n",
       "       [ 73.57626091],\n",
       "       [ 61.64934686],\n",
       "       [ 47.02237335],\n",
       "       [ 72.81791676],\n",
       "       [ 47.99023039],\n",
       "       [ 24.99859026],\n",
       "       [ 17.0076021 ],\n",
       "       [ 35.93296776],\n",
       "       [ 43.34337681],\n",
       "       [ 35.26834342],\n",
       "       [ 69.12938964],\n",
       "       [ 86.03044172],\n",
       "       [ 17.67197749],\n",
       "       [ 28.02056421],\n",
       "       [ 63.138181  ],\n",
       "       [ 72.44437936],\n",
       "       [ 78.97044261]])"
      ]
     },
     "execution_count": 120,
     "metadata": {},
     "output_type": "execute_result"
    }
   ],
   "source": [
    "y_train = np.array(y_train).reshape(-1,1)\n",
    "y_train"
   ]
  },
  {
   "cell_type": "code",
   "execution_count": 121,
   "metadata": {},
   "outputs": [
    {
     "data": {
      "text/plain": [
       "array([[ 29.45668365],\n",
       "       [ 69.16487471],\n",
       "       [ 96.03550613],\n",
       "       [ 56.29978396],\n",
       "       [ 60.71574106],\n",
       "       [ 16.84794494],\n",
       "       [ 16.94097312],\n",
       "       [ 25.75976909],\n",
       "       [ 93.48259174],\n",
       "       [ 30.2295895 ],\n",
       "       [ 97.36568686],\n",
       "       [ 12.35688342],\n",
       "       [ 77.44023775],\n",
       "       [ 10.88747147],\n",
       "       [ 31.38413152],\n",
       "       [ 63.97128229],\n",
       "       [ 76.78491345],\n",
       "       [ 51.58031115],\n",
       "       [ 29.77761842],\n",
       "       [ 34.98593068],\n",
       "       [ 52.8544787 ],\n",
       "       [ 91.79574549],\n",
       "       [101.94828729],\n",
       "       [ 16.28987871],\n",
       "       [ 91.8397379 ],\n",
       "       [ 52.05713669],\n",
       "       [ 20.57605312],\n",
       "       [ 22.00375542],\n",
       "       [ 30.64139733],\n",
       "       [ 91.96506653],\n",
       "       [ 29.3356476 ],\n",
       "       [ 73.57626091],\n",
       "       [ 61.64934686],\n",
       "       [ 47.02237335],\n",
       "       [ 72.81791676],\n",
       "       [ 47.99023039],\n",
       "       [ 24.99859026],\n",
       "       [ 17.0076021 ],\n",
       "       [ 35.93296776],\n",
       "       [ 43.34337681],\n",
       "       [ 35.26834342],\n",
       "       [ 69.12938964],\n",
       "       [ 86.03044172],\n",
       "       [ 17.67197749],\n",
       "       [ 28.02056421],\n",
       "       [ 63.138181  ],\n",
       "       [ 72.44437936],\n",
       "       [ 78.97044261]])"
      ]
     },
     "execution_count": 121,
     "metadata": {},
     "output_type": "execute_result"
    }
   ],
   "source": [
    "y_train"
   ]
  },
  {
   "cell_type": "code",
   "execution_count": 122,
   "metadata": {},
   "outputs": [
    {
     "data": {
      "text/plain": [
       "(48, 1)"
      ]
     },
     "execution_count": 122,
     "metadata": {},
     "output_type": "execute_result"
    }
   ],
   "source": [
    "X_train.shape"
   ]
  },
  {
   "cell_type": "code",
   "execution_count": 123,
   "metadata": {},
   "outputs": [
    {
     "data": {
      "text/plain": [
       "(12,)"
      ]
     },
     "execution_count": 123,
     "metadata": {},
     "output_type": "execute_result"
    }
   ],
   "source": [
    "X_test.shape"
   ]
  },
  {
   "cell_type": "code",
   "execution_count": 124,
   "metadata": {},
   "outputs": [
    {
     "data": {
      "text/plain": [
       "(12,)"
      ]
     },
     "execution_count": 124,
     "metadata": {},
     "output_type": "execute_result"
    }
   ],
   "source": [
    "y_test.shape"
   ]
  },
  {
   "cell_type": "code",
   "execution_count": 125,
   "metadata": {},
   "outputs": [
    {
     "data": {
      "text/plain": [
       "(48, 1)"
      ]
     },
     "execution_count": 125,
     "metadata": {},
     "output_type": "execute_result"
    }
   ],
   "source": [
    "y_train.shape"
   ]
  },
  {
   "cell_type": "code",
   "execution_count": 126,
   "metadata": {},
   "outputs": [],
   "source": [
    "line = LinearRegression ()"
   ]
  },
  {
   "cell_type": "code",
   "execution_count": 127,
   "metadata": {},
   "outputs": [
    {
     "data": {
      "text/html": [
       "<style>#sk-container-id-4 {color: black;}#sk-container-id-4 pre{padding: 0;}#sk-container-id-4 div.sk-toggleable {background-color: white;}#sk-container-id-4 label.sk-toggleable__label {cursor: pointer;display: block;width: 100%;margin-bottom: 0;padding: 0.3em;box-sizing: border-box;text-align: center;}#sk-container-id-4 label.sk-toggleable__label-arrow:before {content: \"▸\";float: left;margin-right: 0.25em;color: #696969;}#sk-container-id-4 label.sk-toggleable__label-arrow:hover:before {color: black;}#sk-container-id-4 div.sk-estimator:hover label.sk-toggleable__label-arrow:before {color: black;}#sk-container-id-4 div.sk-toggleable__content {max-height: 0;max-width: 0;overflow: hidden;text-align: left;background-color: #f0f8ff;}#sk-container-id-4 div.sk-toggleable__content pre {margin: 0.2em;color: black;border-radius: 0.25em;background-color: #f0f8ff;}#sk-container-id-4 input.sk-toggleable__control:checked~div.sk-toggleable__content {max-height: 200px;max-width: 100%;overflow: auto;}#sk-container-id-4 input.sk-toggleable__control:checked~label.sk-toggleable__label-arrow:before {content: \"▾\";}#sk-container-id-4 div.sk-estimator input.sk-toggleable__control:checked~label.sk-toggleable__label {background-color: #d4ebff;}#sk-container-id-4 div.sk-label input.sk-toggleable__control:checked~label.sk-toggleable__label {background-color: #d4ebff;}#sk-container-id-4 input.sk-hidden--visually {border: 0;clip: rect(1px 1px 1px 1px);clip: rect(1px, 1px, 1px, 1px);height: 1px;margin: -1px;overflow: hidden;padding: 0;position: absolute;width: 1px;}#sk-container-id-4 div.sk-estimator {font-family: monospace;background-color: #f0f8ff;border: 1px dotted black;border-radius: 0.25em;box-sizing: border-box;margin-bottom: 0.5em;}#sk-container-id-4 div.sk-estimator:hover {background-color: #d4ebff;}#sk-container-id-4 div.sk-parallel-item::after {content: \"\";width: 100%;border-bottom: 1px solid gray;flex-grow: 1;}#sk-container-id-4 div.sk-label:hover label.sk-toggleable__label {background-color: #d4ebff;}#sk-container-id-4 div.sk-serial::before {content: \"\";position: absolute;border-left: 1px solid gray;box-sizing: border-box;top: 0;bottom: 0;left: 50%;z-index: 0;}#sk-container-id-4 div.sk-serial {display: flex;flex-direction: column;align-items: center;background-color: white;padding-right: 0.2em;padding-left: 0.2em;position: relative;}#sk-container-id-4 div.sk-item {position: relative;z-index: 1;}#sk-container-id-4 div.sk-parallel {display: flex;align-items: stretch;justify-content: center;background-color: white;position: relative;}#sk-container-id-4 div.sk-item::before, #sk-container-id-4 div.sk-parallel-item::before {content: \"\";position: absolute;border-left: 1px solid gray;box-sizing: border-box;top: 0;bottom: 0;left: 50%;z-index: -1;}#sk-container-id-4 div.sk-parallel-item {display: flex;flex-direction: column;z-index: 1;position: relative;background-color: white;}#sk-container-id-4 div.sk-parallel-item:first-child::after {align-self: flex-end;width: 50%;}#sk-container-id-4 div.sk-parallel-item:last-child::after {align-self: flex-start;width: 50%;}#sk-container-id-4 div.sk-parallel-item:only-child::after {width: 0;}#sk-container-id-4 div.sk-dashed-wrapped {border: 1px dashed gray;margin: 0 0.4em 0.5em 0.4em;box-sizing: border-box;padding-bottom: 0.4em;background-color: white;}#sk-container-id-4 div.sk-label label {font-family: monospace;font-weight: bold;display: inline-block;line-height: 1.2em;}#sk-container-id-4 div.sk-label-container {text-align: center;}#sk-container-id-4 div.sk-container {/* jupyter's `normalize.less` sets `[hidden] { display: none; }` but bootstrap.min.css set `[hidden] { display: none !important; }` so we also need the `!important` here to be able to override the default hidden behavior on the sphinx rendered scikit-learn.org. See: https://github.com/scikit-learn/scikit-learn/issues/21755 */display: inline-block !important;position: relative;}#sk-container-id-4 div.sk-text-repr-fallback {display: none;}</style><div id=\"sk-container-id-4\" class=\"sk-top-container\"><div class=\"sk-text-repr-fallback\"><pre>LinearRegression()</pre><b>In a Jupyter environment, please rerun this cell to show the HTML representation or trust the notebook. <br />On GitHub, the HTML representation is unable to render, please try loading this page with nbviewer.org.</b></div><div class=\"sk-container\" hidden><div class=\"sk-item\"><div class=\"sk-estimator sk-toggleable\"><input class=\"sk-toggleable__control sk-hidden--visually\" id=\"sk-estimator-id-4\" type=\"checkbox\" checked><label for=\"sk-estimator-id-4\" class=\"sk-toggleable__label sk-toggleable__label-arrow\">LinearRegression</label><div class=\"sk-toggleable__content\"><pre>LinearRegression()</pre></div></div></div></div></div>"
      ],
      "text/plain": [
       "LinearRegression()"
      ]
     },
     "execution_count": 127,
     "metadata": {},
     "output_type": "execute_result"
    }
   ],
   "source": [
    "line.fit(X_train,y_train)"
   ]
  },
  {
   "cell_type": "code",
   "execution_count": 128,
   "metadata": {},
   "outputs": [
    {
     "data": {
      "text/plain": [
       "array([1.54022016])"
      ]
     },
     "execution_count": 128,
     "metadata": {},
     "output_type": "execute_result"
    }
   ],
   "source": [
    "a = line.intercept_\n",
    "a"
   ]
  },
  {
   "cell_type": "code",
   "execution_count": 129,
   "metadata": {},
   "outputs": [
    {
     "data": {
      "text/plain": [
       "array([[9.71292661]])"
      ]
     },
     "execution_count": 129,
     "metadata": {},
     "output_type": "execute_result"
    }
   ],
   "source": [
    "b = line.coef_\n",
    "b"
   ]
  },
  {
   "cell_type": "code",
   "execution_count": 130,
   "metadata": {},
   "outputs": [
    {
     "data": {
      "text/plain": [
       "array([26.15974147, 63.5856801 , 93.38070524, 57.12543318, 63.80042074,\n",
       "       16.33060354, 21.92128255, 24.89172522, 90.74260779, 36.71133218,\n",
       "       95.66516444, 15.20675082, 79.89035521, 18.98883738, 27.28569768,\n",
       "       56.20563905, 73.15025965, 64.36249383, 28.70789792, 37.84888999,\n",
       "       51.12111537, 91.84001791, 96.03911573, 16.93971892, 89.47567826,\n",
       "       54.53969968, 19.79128546, 15.31367183, 33.87474551, 94.36111138,\n",
       "       23.44718946, 75.24137773, 56.7155895 , 49.72966662, 81.92028384,\n",
       "       43.27915806, 27.41244663, 13.05256792, 36.79136257, 49.01219919,\n",
       "       39.69233343, 64.73908717, 86.97109483, 14.25926542, 27.14761985,\n",
       "       63.03985987, 79.01242085, 71.06629334])"
      ]
     },
     "execution_count": 130,
     "metadata": {},
     "output_type": "execute_result"
    }
   ],
   "source": [
    "Y_pred_train = b*X_train + a\n",
    "Y_pred_train.flatten()"
   ]
  },
  {
   "cell_type": "code",
   "execution_count": 131,
   "metadata": {},
   "outputs": [
    {
     "data": {
      "text/plain": [
       "array([[26.15974147],\n",
       "       [63.5856801 ],\n",
       "       [93.38070524],\n",
       "       [57.12543318],\n",
       "       [63.80042074],\n",
       "       [16.33060354],\n",
       "       [21.92128255],\n",
       "       [24.89172522],\n",
       "       [90.74260779],\n",
       "       [36.71133218],\n",
       "       [95.66516444],\n",
       "       [15.20675082],\n",
       "       [79.89035521],\n",
       "       [18.98883738],\n",
       "       [27.28569768],\n",
       "       [56.20563905],\n",
       "       [73.15025965],\n",
       "       [64.36249383],\n",
       "       [28.70789792],\n",
       "       [37.84888999],\n",
       "       [51.12111537],\n",
       "       [91.84001791],\n",
       "       [96.03911573],\n",
       "       [16.93971892],\n",
       "       [89.47567826],\n",
       "       [54.53969968],\n",
       "       [19.79128546],\n",
       "       [15.31367183],\n",
       "       [33.87474551],\n",
       "       [94.36111138],\n",
       "       [23.44718946],\n",
       "       [75.24137773],\n",
       "       [56.7155895 ],\n",
       "       [49.72966662],\n",
       "       [81.92028384],\n",
       "       [43.27915806],\n",
       "       [27.41244663],\n",
       "       [13.05256792],\n",
       "       [36.79136257],\n",
       "       [49.01219919],\n",
       "       [39.69233343],\n",
       "       [64.73908717],\n",
       "       [86.97109483],\n",
       "       [14.25926542],\n",
       "       [27.14761985],\n",
       "       [63.03985987],\n",
       "       [79.01242085],\n",
       "       [71.06629334]])"
      ]
     },
     "execution_count": 131,
     "metadata": {},
     "output_type": "execute_result"
    }
   ],
   "source": [
    "Y_pred_train_one = line.predict(X_train)\n",
    "Y_pred_train_one"
   ]
  },
  {
   "cell_type": "markdown",
   "metadata": {},
   "source": [
    "## <font color='purple'><br>Linear-Scatter Plot of Training Data with Linear Regression Line</br></font>\n",
    "\n",
    "- `plt.scatter(X_train, y_train)`: Plots the training data points as a scatter plot. Here, `X_train` represents the hours, while `y_train` represents the performance.\n",
    "\n",
    "- `plt.plot(X_train, Y_pred_train_one, color='black', linewidth=3)`: Plots the linear regression line on the training data. Here, `X_train` represents the hours, while `Y_pred_train_one` represents the predicted performance by the linear regression. The parameter `color='black'` sets the color of the line to black, and `linewidth=3` sets the thickness of the line.\n",
    "\n",
    "- `plt.xlabel(\"Test Hours\")`: Specifies the label for the X-axis. Here, \"Test Hours\" indicates that the hours are from the training set.\n",
    "\n",
    "- `plt.ylabel(\"Test Performance\")`: Specifies the label for the Y-axis. Here, \"Test Performance\" indicates that the performance is from the training set.\n",
    "\n",
    "\n"
   ]
  },
  {
   "cell_type": "code",
   "execution_count": 132,
   "metadata": {},
   "outputs": [
    {
     "data": {
      "text/plain": [
       "Text(0, 0.5, 'Test Performance')"
      ]
     },
     "execution_count": 132,
     "metadata": {},
     "output_type": "execute_result"
    },
    {
     "data": {
      "image/png": "[encoded data removed]",
      "text/plain": [
       "<Figure size 640x480 with 1 Axes>"
      ]
     },
     "metadata": {},
     "output_type": "display_data"
    }
   ],
   "source": [
    "plt.scatter(X_train,y_train)\n",
    "plt.plot(X_train,Y_pred_train_one,color='black',linewidth=3)\n",
    "plt.xlabel(\"Test Hourse\")\n",
    "plt.ylabel(\"Test Performance\")"
   ]
  },
  {
   "cell_type": "code",
   "execution_count": 133,
   "metadata": {},
   "outputs": [
    {
     "data": {
      "text/plain": [
       "array([[43.99407298],\n",
       "       [24.88961673],\n",
       "       [37.88136745],\n",
       "       [69.16841973],\n",
       "       [29.81505457],\n",
       "       [63.51937433],\n",
       "       [94.20124708],\n",
       "       [59.04455818],\n",
       "       [84.02223531],\n",
       "       [28.38525122],\n",
       "       [38.50178804],\n",
       "       [96.0106858 ]])"
      ]
     },
     "execution_count": 133,
     "metadata": {},
     "output_type": "execute_result"
    }
   ],
   "source": [
    "X_test = X_test.values\n",
    "Y_pred_train_one = line.predict(X_test.reshape(-1, 1))\n",
    "Y_pred_train_one"
   ]
  },
  {
   "cell_type": "markdown",
   "metadata": {},
   "source": [
    "## <font color='pink'><br>Linear-Scatter Plot of Test Data with Linear Regression Line</br></font>\n",
    "\n",
    "- `plt.scatter(X_test, y_test)`: Plots the test data points as a scatter plot. Here, `X_test` represents the hours from the test set, while `y_test` represents the corresponding performance values.\n",
    "\n",
    "- `plt.plot(X_test, Y_pred_train_one, color='black', linewidth=3)`: Plots the linear regression line on the test data. Here, `X_test` represents the hours from the test set, while `Y_pred_train_one` represents the predicted performance based on the linear regression trained on the training set. The parameter `color='black'` sets the color of the line to black, and `linewidth=3` sets the thickness of the line.\n",
    "\n",
    "- `plt.xlabel(\"Train Hours\")`: Specifies the label for the X-axis. Here, \"Train Hours\" indicates that the hours are from the training set.\n",
    "\n",
    "- `plt.ylabel(\"Train Performance\")`: Specifies the label for the Y-axis. Here, \"Train Performance\" indicates that the performance values are from the training set.\n"
   ]
  },
  {
   "cell_type": "code",
   "execution_count": 134,
   "metadata": {},
   "outputs": [
    {
     "data": {
      "text/plain": [
       "Text(0, 0.5, 'Train Performance')"
      ]
     },
     "execution_count": 134,
     "metadata": {},
     "output_type": "execute_result"
    },
    {
     "data": {
      "image/png": "[encoded data removed]",
      "text/plain": [
       "<Figure size 640x480 with 1 Axes>"
      ]
     },
     "metadata": {},
     "output_type": "display_data"
    }
   ],
   "source": [
    "plt.scatter(X_test,y_test)\n",
    "plt.plot(X_test,Y_pred_train_one,color='black',linewidth=3)\n",
    "plt.xlabel(\"Train House\")\n",
    "plt.ylabel(\"Train Performance\")"
   ]
  }
 ],
 "metadata": {
  "kernelspec": {
   "display_name": "Python 3",
   "language": "python",
   "name": "python3"
  },
  "language_info": {
   "codemirror_mode": {
    "name": "ipython",
    "version": 3
   },
   "file_extension": ".py",
   "mimetype": "text/x-python",
   "name": "python",
   "nbconvert_exporter": "python",
   "pygments_lexer": "ipython3",
   "version": "3.11.4"
  }
 },
 "nbformat": 4,
 "nbformat_minor": 2
}
